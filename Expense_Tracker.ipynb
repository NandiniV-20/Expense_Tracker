{
 "cells": [
  {
   "cell_type": "code",
   "execution_count": 12,
   "id": "f12b4ec8-f15f-4ba7-bf65-ac2618456a68",
   "metadata": {},
   "outputs": [
    {
     "name": "stdout",
     "output_type": "stream",
     "text": [
      "\n",
      "\t\t\t\t\t\t\t EXPENSE TRACKER\n"
     ]
    },
    {
     "name": "stdin",
     "output_type": "stream",
     "text": [
      "\n",
      "\n",
      "Enter monthly income:  1200\n"
     ]
    },
    {
     "name": "stdout",
     "output_type": "stream",
     "text": [
      "Monthly income set to: 1200 Rs\n"
     ]
    },
    {
     "name": "stdin",
     "output_type": "stream",
     "text": [
      "\n",
      "Do you want to add a new expense? (y/n):  y\n",
      "Enter expense:  wer\n",
      "Enter amount:  123\n",
      "Enter mode of payment:  cash\n"
     ]
    },
    {
     "name": "stdout",
     "output_type": "stream",
     "text": [
      "  Expense Amount  Mode       Date & Time\n",
      "0     wer    123  cash  2024-07-23 16:23\n"
     ]
    },
    {
     "name": "stdin",
     "output_type": "stream",
     "text": [
      "\n",
      "Do you want to add a new expense? (y/n):  y\n",
      "Enter expense:  ert\n",
      "Enter amount:  345\n",
      "Enter mode of payment:  gpay\n"
     ]
    },
    {
     "name": "stdout",
     "output_type": "stream",
     "text": [
      "  Expense Amount  Mode       Date & Time\n",
      "0     wer    123  cash  2024-07-23 16:23\n",
      "1     ert    345  gpay  2024-07-23 16:23\n"
     ]
    },
    {
     "name": "stdin",
     "output_type": "stream",
     "text": [
      "\n",
      "Do you want to add a new expense? (y/n):  y\n",
      "Enter expense:  wer\n",
      "Enter amount:  456\n",
      "Enter mode of payment:  gpay\n"
     ]
    },
    {
     "name": "stdout",
     "output_type": "stream",
     "text": [
      "  Expense Amount  Mode       Date & Time\n",
      "0     wer    123  cash  2024-07-23 16:23\n",
      "1     ert    345  gpay  2024-07-23 16:23\n",
      "2     wer    456  gpay  2024-07-23 16:23\n"
     ]
    },
    {
     "name": "stdin",
     "output_type": "stream",
     "text": [
      "\n",
      "Do you want to add a new expense? (y/n):  n\n"
     ]
    },
    {
     "name": "stdout",
     "output_type": "stream",
     "text": [
      "\n",
      "Total Expenses: 924.00 Rs\n",
      "Expense\n",
      "ert    345\n",
      "wer    579\n",
      "Name: Amount, dtype: object\n",
      "\n",
      "Total Savings: 276.00 Rs\n"
     ]
    },
    {
     "data": {
      "image/png": "[encoded data removed]",
      "text/plain": [
       "<Figure size 1000x600 with 1 Axes>"
      ]
     },
     "metadata": {},
     "output_type": "display_data"
    }
   ],
   "source": [
    "import pandas as pd\n",
    "import datetime as dt\n",
    "import matplotlib.pyplot as plt\n",
    "import seaborn as sns\n",
    "\n",
    "class ExpenseTracker:\n",
    "    def __init__(self):\n",
    "        print(\"\\n\\t\\t\\t\\t\\t\\t\\t EXPENSE TRACKER\")\n",
    "        self.monthly_income = int(input(\"\\n\\nEnter monthly income: \"))\n",
    "        print(f\"Monthly income set to: {self.monthly_income} Rs\")\n",
    "        self.expense_df = pd.DataFrame(columns=[\"Expense\", \"Amount\", \"Mode\", \"Date & Time\"])\n",
    "\n",
    "    def expenses(self):\n",
    "        expense = input(\"Enter expense: \")\n",
    "        amount = int(input(\"Enter amount: \"))\n",
    "        mode = input(\"Enter mode of payment: \")\n",
    "        date = dt.datetime.now().strftime('%Y-%m-%d %H:%M')\n",
    "        new_expense = pd.DataFrame({\"Expense\": [expense], \"Amount\": [amount], \"Mode\": [mode], \"Date & Time\": [date]})\n",
    "        self.expense_df = pd.concat([self.expense_df, new_expense], ignore_index=True)\n",
    "        print(self.expense_df)\n",
    "\n",
    "    def add_expense(self):\n",
    "        while True:\n",
    "            choice = input(\"\\nDo you want to add a new expense? (y/n): \")\n",
    "            if choice.lower() == 'y':\n",
    "                self.expenses()\n",
    "            elif choice.lower() == 'n':\n",
    "                break\n",
    "            else:\n",
    "                print(\"Invalid choice, please enter 'y' or 'n'.\")\n",
    "\n",
    "    def total(self):\n",
    "        total_expense = self.expense_df[\"Amount\"].sum()\n",
    "        print(f\"\\nTotal Expenses: {total_expense:.2f} Rs\")\n",
    "        group=self.expense_df.groupby(\"Expense\").agg(\"Amount\").sum()\n",
    "        print(group)\n",
    "\n",
    "    def savings(self):\n",
    "        total_expense = self.expense_df[\"Amount\"].sum()\n",
    "        total_saving = self.monthly_income - total_expense\n",
    "        print(f\"\\nTotal Savings: {total_saving:.2f} Rs\")\n",
    "\n",
    "    def graph(self):\n",
    "        plt.figure(figsize=(10, 6))\n",
    "        expense_by_mode = self.expense_df.groupby(\"Mode\")[\"Amount\"].sum()\n",
    "        expense_by_mode.plot(kind='bar', color='skyblue')\n",
    "        plt.title('Expenses by Mode of Payment')\n",
    "        plt.xlabel('Payment Mode')\n",
    "        plt.ylabel('Amount')\n",
    "        plt.tight_layout()\n",
    "        sns.set_style(style=\"darkgrid\")\n",
    "        plt.show()\n",
    "\n",
    "app = ExpenseTracker()\n",
    "app.add_expense()\n",
    "app.total()\n",
    "app.savings()\n",
    "app.graph()\n",
    "\n"
   ]
  },
  {
   "cell_type": "code",
   "execution_count": null,
   "id": "46536f93-4ea6-4d5e-9143-4584b189fc24",
   "metadata": {},
   "outputs": [],
   "source": []
  }
 ],
 "metadata": {
  "kernelspec": {
   "display_name": "Python 3 (ipykernel)",
   "language": "python",
   "name": "python3"
  },
  "language_info": {
   "codemirror_mode": {
    "name": "ipython",
    "version": 3
   },
   "file_extension": ".py",
   "mimetype": "text/x-python",
   "name": "python",
   "nbconvert_exporter": "python",
   "pygments_lexer": "ipython3",
   "version": "3.12.4"
  }
 },
 "nbformat": 4,
 "nbformat_minor": 5
}
